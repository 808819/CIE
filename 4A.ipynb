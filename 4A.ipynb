{
  "nbformat": 4,
  "nbformat_minor": 0,
  "metadata": {
    "colab": {
      "provenance": [],
      "authorship_tag": "ABX9TyOnIk00KPAGuxMyzV/fWC/E",
      "include_colab_link": true
    },
    "kernelspec": {
      "name": "python3",
      "display_name": "Python 3"
    },
    "language_info": {
      "name": "python"
    }
  },
  "cells": [
    {
      "cell_type": "markdown",
      "metadata": {
        "id": "view-in-github",
        "colab_type": "text"
      },
      "source": [
        "<a href=\"https://colab.research.google.com/github/808819/CIE/blob/main/4A.ipynb\" target=\"_parent\"><img src=\"https://colab.research.google.com/assets/colab-badge.svg\" alt=\"Open In Colab\"/></a>"
      ]
    },
    {
      "cell_type": "code",
      "execution_count": null,
      "metadata": {
        "colab": {
          "base_uri": "https://localhost:8080/",
          "height": 746
        },
        "id": "FTO4y9aLIfao",
        "outputId": "f42ecc38-a4a0-481f-880c-1bbd79961b6e"
      },
      "outputs": [
        {
          "output_type": "stream",
          "name": "stdout",
          "text": [
            "<class 'pandas.core.frame.DataFrame'>\n",
            "RangeIndex: 9847 entries, 0 to 9846\n",
            "Data columns (total 14 columns):\n",
            " #   Column             Non-Null Count  Dtype  \n",
            "---  ------             --------------  -----  \n",
            " 0   keywords_modified  9847 non-null   object \n",
            " 1   Company            9846 non-null   float64\n",
            " 2   Designation        9847 non-null   int64  \n",
            " 3   Function           9847 non-null   int64  \n",
            " 4   Role               9847 non-null   int64  \n",
            " 5   Skills             9847 non-null   int64  \n",
            " 6   Location           9847 non-null   int64  \n",
            " 7   tenant             6502 non-null   object \n",
            " 8   result_count       6532 non-null   float64\n",
            " 9   search_count       6554 non-null   float64\n",
            " 10  source             6568 non-null   object \n",
            " 11  Unnamed: 11        0 non-null      float64\n",
            " 12  Unnamed: 12        0 non-null      float64\n",
            " 13  Unnamed: 13        10 non-null     object \n",
            "dtypes: float64(5), int64(5), object(4)\n",
            "memory usage: 1.1+ MB\n"
          ]
        },
        {
          "output_type": "execute_result",
          "data": {
            "text/plain": [
              "           Company  Designation     Function         Role       Skills  \\\n",
              "count  9846.000000  9847.000000  9847.000000  9847.000000  9847.000000   \n",
              "mean      0.145338     0.262923     0.037372     0.162994     0.466843   \n",
              "std       0.352459     0.440243     0.189681     0.369379     0.498925   \n",
              "min       0.000000     0.000000     0.000000     0.000000     0.000000   \n",
              "25%       0.000000     0.000000     0.000000     0.000000     0.000000   \n",
              "50%       0.000000     0.000000     0.000000     0.000000     0.000000   \n",
              "75%       0.000000     1.000000     0.000000     0.000000     1.000000   \n",
              "max       1.000000     1.000000     1.000000     1.000000     1.000000   \n",
              "\n",
              "          Location   result_count  search_count  Unnamed: 11  Unnamed: 12  \n",
              "count  9847.000000    6532.000000   6554.000000          0.0          0.0  \n",
              "mean      0.011476    5242.551898     14.083766          NaN          NaN  \n",
              "std       0.106513   13987.249447    122.924962          NaN          NaN  \n",
              "min       0.000000       1.000000      2.000000          NaN          NaN  \n",
              "25%       0.000000     120.000000      3.000000          NaN          NaN  \n",
              "50%       0.000000     653.500000      4.000000          NaN          NaN  \n",
              "75%       0.000000    3475.000000     10.000000          NaN          NaN  \n",
              "max       1.000000  302190.000000   8472.000000          NaN          NaN  "
            ],
            "text/html": [
              "\n",
              "  <div id=\"df-a6256af1-a72c-4748-bbe4-6fc408d3a18c\">\n",
              "    <div class=\"colab-df-container\">\n",
              "      <div>\n",
              "<style scoped>\n",
              "    .dataframe tbody tr th:only-of-type {\n",
              "        vertical-align: middle;\n",
              "    }\n",
              "\n",
              "    .dataframe tbody tr th {\n",
              "        vertical-align: top;\n",
              "    }\n",
              "\n",
              "    .dataframe thead th {\n",
              "        text-align: right;\n",
              "    }\n",
              "</style>\n",
              "<table border=\"1\" class=\"dataframe\">\n",
              "  <thead>\n",
              "    <tr style=\"text-align: right;\">\n",
              "      <th></th>\n",
              "      <th>Company</th>\n",
              "      <th>Designation</th>\n",
              "      <th>Function</th>\n",
              "      <th>Role</th>\n",
              "      <th>Skills</th>\n",
              "      <th>Location</th>\n",
              "      <th>result_count</th>\n",
              "      <th>search_count</th>\n",
              "      <th>Unnamed: 11</th>\n",
              "      <th>Unnamed: 12</th>\n",
              "    </tr>\n",
              "  </thead>\n",
              "  <tbody>\n",
              "    <tr>\n",
              "      <th>count</th>\n",
              "      <td>9846.000000</td>\n",
              "      <td>9847.000000</td>\n",
              "      <td>9847.000000</td>\n",
              "      <td>9847.000000</td>\n",
              "      <td>9847.000000</td>\n",
              "      <td>9847.000000</td>\n",
              "      <td>6532.000000</td>\n",
              "      <td>6554.000000</td>\n",
              "      <td>0.0</td>\n",
              "      <td>0.0</td>\n",
              "    </tr>\n",
              "    <tr>\n",
              "      <th>mean</th>\n",
              "      <td>0.145338</td>\n",
              "      <td>0.262923</td>\n",
              "      <td>0.037372</td>\n",
              "      <td>0.162994</td>\n",
              "      <td>0.466843</td>\n",
              "      <td>0.011476</td>\n",
              "      <td>5242.551898</td>\n",
              "      <td>14.083766</td>\n",
              "      <td>NaN</td>\n",
              "      <td>NaN</td>\n",
              "    </tr>\n",
              "    <tr>\n",
              "      <th>std</th>\n",
              "      <td>0.352459</td>\n",
              "      <td>0.440243</td>\n",
              "      <td>0.189681</td>\n",
              "      <td>0.369379</td>\n",
              "      <td>0.498925</td>\n",
              "      <td>0.106513</td>\n",
              "      <td>13987.249447</td>\n",
              "      <td>122.924962</td>\n",
              "      <td>NaN</td>\n",
              "      <td>NaN</td>\n",
              "    </tr>\n",
              "    <tr>\n",
              "      <th>min</th>\n",
              "      <td>0.000000</td>\n",
              "      <td>0.000000</td>\n",
              "      <td>0.000000</td>\n",
              "      <td>0.000000</td>\n",
              "      <td>0.000000</td>\n",
              "      <td>0.000000</td>\n",
              "      <td>1.000000</td>\n",
              "      <td>2.000000</td>\n",
              "      <td>NaN</td>\n",
              "      <td>NaN</td>\n",
              "    </tr>\n",
              "    <tr>\n",
              "      <th>25%</th>\n",
              "      <td>0.000000</td>\n",
              "      <td>0.000000</td>\n",
              "      <td>0.000000</td>\n",
              "      <td>0.000000</td>\n",
              "      <td>0.000000</td>\n",
              "      <td>0.000000</td>\n",
              "      <td>120.000000</td>\n",
              "      <td>3.000000</td>\n",
              "      <td>NaN</td>\n",
              "      <td>NaN</td>\n",
              "    </tr>\n",
              "    <tr>\n",
              "      <th>50%</th>\n",
              "      <td>0.000000</td>\n",
              "      <td>0.000000</td>\n",
              "      <td>0.000000</td>\n",
              "      <td>0.000000</td>\n",
              "      <td>0.000000</td>\n",
              "      <td>0.000000</td>\n",
              "      <td>653.500000</td>\n",
              "      <td>4.000000</td>\n",
              "      <td>NaN</td>\n",
              "      <td>NaN</td>\n",
              "    </tr>\n",
              "    <tr>\n",
              "      <th>75%</th>\n",
              "      <td>0.000000</td>\n",
              "      <td>1.000000</td>\n",
              "      <td>0.000000</td>\n",
              "      <td>0.000000</td>\n",
              "      <td>1.000000</td>\n",
              "      <td>0.000000</td>\n",
              "      <td>3475.000000</td>\n",
              "      <td>10.000000</td>\n",
              "      <td>NaN</td>\n",
              "      <td>NaN</td>\n",
              "    </tr>\n",
              "    <tr>\n",
              "      <th>max</th>\n",
              "      <td>1.000000</td>\n",
              "      <td>1.000000</td>\n",
              "      <td>1.000000</td>\n",
              "      <td>1.000000</td>\n",
              "      <td>1.000000</td>\n",
              "      <td>1.000000</td>\n",
              "      <td>302190.000000</td>\n",
              "      <td>8472.000000</td>\n",
              "      <td>NaN</td>\n",
              "      <td>NaN</td>\n",
              "    </tr>\n",
              "  </tbody>\n",
              "</table>\n",
              "</div>\n",
              "      <button class=\"colab-df-convert\" onclick=\"convertToInteractive('df-a6256af1-a72c-4748-bbe4-6fc408d3a18c')\"\n",
              "              title=\"Convert this dataframe to an interactive table.\"\n",
              "              style=\"display:none;\">\n",
              "        \n",
              "  <svg xmlns=\"http://www.w3.org/2000/svg\" height=\"24px\"viewBox=\"0 0 24 24\"\n",
              "       width=\"24px\">\n",
              "    <path d=\"M0 0h24v24H0V0z\" fill=\"none\"/>\n",
              "    <path d=\"M18.56 5.44l.94 2.06.94-2.06 2.06-.94-2.06-.94-.94-2.06-.94 2.06-2.06.94zm-11 1L8.5 8.5l.94-2.06 2.06-.94-2.06-.94L8.5 2.5l-.94 2.06-2.06.94zm10 10l.94 2.06.94-2.06 2.06-.94-2.06-.94-.94-2.06-.94 2.06-2.06.94z\"/><path d=\"M17.41 7.96l-1.37-1.37c-.4-.4-.92-.59-1.43-.59-.52 0-1.04.2-1.43.59L10.3 9.45l-7.72 7.72c-.78.78-.78 2.05 0 2.83L4 21.41c.39.39.9.59 1.41.59.51 0 1.02-.2 1.41-.59l7.78-7.78 2.81-2.81c.8-.78.8-2.07 0-2.86zM5.41 20L4 18.59l7.72-7.72 1.47 1.35L5.41 20z\"/>\n",
              "  </svg>\n",
              "      </button>\n",
              "      \n",
              "  <style>\n",
              "    .colab-df-container {\n",
              "      display:flex;\n",
              "      flex-wrap:wrap;\n",
              "      gap: 12px;\n",
              "    }\n",
              "\n",
              "    .colab-df-convert {\n",
              "      background-color: #E8F0FE;\n",
              "      border: none;\n",
              "      border-radius: 50%;\n",
              "      cursor: pointer;\n",
              "      display: none;\n",
              "      fill: #1967D2;\n",
              "      height: 32px;\n",
              "      padding: 0 0 0 0;\n",
              "      width: 32px;\n",
              "    }\n",
              "\n",
              "    .colab-df-convert:hover {\n",
              "      background-color: #E2EBFA;\n",
              "      box-shadow: 0px 1px 2px rgba(60, 64, 67, 0.3), 0px 1px 3px 1px rgba(60, 64, 67, 0.15);\n",
              "      fill: #174EA6;\n",
              "    }\n",
              "\n",
              "    [theme=dark] .colab-df-convert {\n",
              "      background-color: #3B4455;\n",
              "      fill: #D2E3FC;\n",
              "    }\n",
              "\n",
              "    [theme=dark] .colab-df-convert:hover {\n",
              "      background-color: #434B5C;\n",
              "      box-shadow: 0px 1px 3px 1px rgba(0, 0, 0, 0.15);\n",
              "      filter: drop-shadow(0px 1px 2px rgba(0, 0, 0, 0.3));\n",
              "      fill: #FFFFFF;\n",
              "    }\n",
              "  </style>\n",
              "\n",
              "      <script>\n",
              "        const buttonEl =\n",
              "          document.querySelector('#df-a6256af1-a72c-4748-bbe4-6fc408d3a18c button.colab-df-convert');\n",
              "        buttonEl.style.display =\n",
              "          google.colab.kernel.accessAllowed ? 'block' : 'none';\n",
              "\n",
              "        async function convertToInteractive(key) {\n",
              "          const element = document.querySelector('#df-a6256af1-a72c-4748-bbe4-6fc408d3a18c');\n",
              "          const dataTable =\n",
              "            await google.colab.kernel.invokeFunction('convertToInteractive',\n",
              "                                                     [key], {});\n",
              "          if (!dataTable) return;\n",
              "\n",
              "          const docLinkHtml = 'Like what you see? Visit the ' +\n",
              "            '<a target=\"_blank\" href=https://colab.research.google.com/notebooks/data_table.ipynb>data table notebook</a>'\n",
              "            + ' to learn more about interactive tables.';\n",
              "          element.innerHTML = '';\n",
              "          dataTable['output_type'] = 'display_data';\n",
              "          await google.colab.output.renderOutput(dataTable, element);\n",
              "          const docLink = document.createElement('div');\n",
              "          docLink.innerHTML = docLinkHtml;\n",
              "          element.appendChild(docLink);\n",
              "        }\n",
              "      </script>\n",
              "    </div>\n",
              "  </div>\n",
              "  "
            ]
          },
          "metadata": {},
          "execution_count": 2
        }
      ],
      "source": [
        "import pandas as pd\n",
        "import numpy as np\n",
        "df = pd.read_excel(r'top_seeker_searches_all_data.xlsx')\n",
        "df. head(10)\n",
        "df.info()\n",
        "df.describe()\n"
      ]
    },
    {
      "cell_type": "code",
      "source": [
        "df.duplicated().sum()\n",
        "df[ \"Company\" ].unique()\n"
      ],
      "metadata": {
        "colab": {
          "base_uri": "https://localhost:8080/"
        },
        "id": "VbDsQuMgOZRK",
        "outputId": "890e1c2e-0c69-4b35-f219-9b3901fe385d"
      },
      "execution_count": null,
      "outputs": [
        {
          "output_type": "execute_result",
          "data": {
            "text/plain": [
              "array([ 0.,  1., nan])"
            ]
          },
          "metadata": {},
          "execution_count": 10
        }
      ]
    },
    {
      "cell_type": "code",
      "source": [
        "df.isnull().sum()"
      ],
      "metadata": {
        "colab": {
          "base_uri": "https://localhost:8080/"
        },
        "id": "58r2V7FJOZTl",
        "outputId": "682909b6-379f-43b1-82ad-21355ee33455"
      },
      "execution_count": null,
      "outputs": [
        {
          "output_type": "execute_result",
          "data": {
            "text/plain": [
              "keywords_modified       0\n",
              "Company                 1\n",
              "Designation             0\n",
              "Function                0\n",
              "Role                    0\n",
              "Skills                  0\n",
              "Location                0\n",
              "tenant               3345\n",
              "result_count         3315\n",
              "search_count         3293\n",
              "source               3279\n",
              "Unnamed: 11          9847\n",
              "Unnamed: 12          9847\n",
              "Unnamed: 13          9837\n",
              "dtype: int64"
            ]
          },
          "metadata": {},
          "execution_count": 9
        }
      ]
    },
    {
      "cell_type": "code",
      "source": [
        "df.replace(np.nan,0,inplace = True)\n",
        "df.isnull().sum()"
      ],
      "metadata": {
        "colab": {
          "base_uri": "https://localhost:8080/"
        },
        "id": "7NwcpNX5OZVz",
        "outputId": "cc7c2103-1c9d-4088-9939-774213936de4"
      },
      "execution_count": null,
      "outputs": [
        {
          "output_type": "execute_result",
          "data": {
            "text/plain": [
              "keywords_modified    0\n",
              "Company              0\n",
              "Designation          0\n",
              "Function             0\n",
              "Role                 0\n",
              "Skills               0\n",
              "Location             0\n",
              "tenant               0\n",
              "result_count         0\n",
              "search_count         0\n",
              "source               0\n",
              "Unnamed: 11          0\n",
              "Unnamed: 12          0\n",
              "Unnamed: 13          0\n",
              "dtype: int64"
            ]
          },
          "metadata": {},
          "execution_count": 12
        }
      ]
    },
    {
      "cell_type": "code",
      "source": [
        " df.dtypes"
      ],
      "metadata": {
        "colab": {
          "base_uri": "https://localhost:8080/"
        },
        "id": "9ctVSCHvOZZk",
        "outputId": "d1aa5971-4dd0-43b7-f3b6-b7030b62c21d"
      },
      "execution_count": null,
      "outputs": [
        {
          "output_type": "execute_result",
          "data": {
            "text/plain": [
              "keywords_modified     object\n",
              "Company              float64\n",
              "Designation            int64\n",
              "Function               int64\n",
              "Role                   int64\n",
              "Skills                 int64\n",
              "Location               int64\n",
              "tenant                object\n",
              "result_count         float64\n",
              "search_count         float64\n",
              "source                object\n",
              "Unnamed: 11          float64\n",
              "Unnamed: 12          float64\n",
              "Unnamed: 13           object\n",
              "dtype: object"
            ]
          },
          "metadata": {},
          "execution_count": 13
        }
      ]
    },
    {
      "cell_type": "code",
      "source": [
        "# Define scalars\n",
        "number_of_units = 598\n",
        "mass_of_sun = 1.989630\n",
        "length_great_wall_of_china = 21196\n",
        "print(number_of_units)\n",
        "print(mass_of_sun)\n",
        "print(length_great_wall_of_china)\n"
      ],
      "metadata": {
        "colab": {
          "base_uri": "https://localhost:8080/"
        },
        "id": "75NHhzZwOZc8",
        "outputId": "60b92a89-6233-435a-bcf6-a2102a85617b"
      },
      "execution_count": null,
      "outputs": [
        {
          "output_type": "stream",
          "name": "stdout",
          "text": [
            "598\n",
            "1.98963\n",
            "21196\n"
          ]
        }
      ]
    },
    {
      "cell_type": "code",
      "source": [
        "# importing required library (numpy as np)\n",
        "import numpy as np\n",
        "# creating a column vector with 2 rows and 1 column using np.array() function\n",
        "col_vec = np.array([[4],[3]])\n",
        "print (\"A column vector\\n\",col_vec)\n",
        "# printing the shape of the vector\n",
        "print(\"Shape of vector=\",col_vec. shape)\n"
      ],
      "metadata": {
        "colab": {
          "base_uri": "https://localhost:8080/"
        },
        "id": "rD6Qz6VgOZgK",
        "outputId": "fe1ae34b-5ce6-4fc1-901f-bc78d53127e0"
      },
      "execution_count": null,
      "outputs": [
        {
          "output_type": "stream",
          "name": "stdout",
          "text": [
            "A column vector\n",
            " [[4]\n",
            " [3]]\n",
            "Shape of vector= (2, 1)\n"
          ]
        }
      ]
    },
    {
      "cell_type": "code",
      "source": [
        "# importing required library (numpy as np)\n",
        "import numpy as np\n",
        "# creating a row vector with 1 row and 3 columns using np.array() function\n",
        "row_vec = np.array([[4,-1,2]])\n",
        "print(\"A row vector\\n\",row_vec)\n",
        "# printing the shape of the vector\n",
        "print(\"Shape of vector=\",row_vec. shape)"
      ],
      "metadata": {
        "colab": {
          "base_uri": "https://localhost:8080/"
        },
        "id": "gt0wwGBHQL6E",
        "outputId": "d6f58bf6-70e3-4e31-e90d-5d2212c648dd"
      },
      "execution_count": null,
      "outputs": [
        {
          "output_type": "stream",
          "name": "stdout",
          "text": [
            "A row vector\n",
            " [[ 4 -1  2]]\n",
            "Shape of vector= (1, 3)\n"
          ]
        }
      ]
    },
    {
      "cell_type": "code",
      "source": [
        "# importing required library (numpy as np)\n",
        "import numpy as np\n",
        "#Illustrating a Zero row vector of dimension 3 using np.array() function\n",
        "zero_vector_l=np.array([0,0,0])\n",
        "print (zero_vector_l)\n",
        "#Illustrating a Zero row vector of dimension 3 using np.zeros() function\n",
        "zero_vector_2=np.zeros(3)\n",
        "print (zero_vector_2)\n",
        "#Illustrating a Zero column vector of dimension 3 using np.zeros() and reshape() function\n",
        "zero_vector_3=np.zeros(3).reshape(3,-1)\n",
        "print (zero_vector_3)"
      ],
      "metadata": {
        "colab": {
          "base_uri": "https://localhost:8080/"
        },
        "id": "FTQLpcMRQL8b",
        "outputId": "9394a83f-b5ba-4559-cc15-577fa9b7bfc9"
      },
      "execution_count": null,
      "outputs": [
        {
          "output_type": "stream",
          "name": "stdout",
          "text": [
            "[0 0 0]\n",
            "[0. 0. 0.]\n",
            "[[0.]\n",
            " [0.]\n",
            " [0.]]\n"
          ]
        }
      ]
    },
    {
      "cell_type": "code",
      "source": [
        "# importing required library (numpy as np)\n",
        "import numpy as np\n",
        "#Illustrating a One vector of dimension 3 using np.array(} function\n",
        "one_vector_1=np.array([1,1,1])\n",
        "print (one_vector_1)\n",
        "#Illustrating a One vector of dimension 3 using np.ones() function\n",
        "one_vector_2=np.ones(3)\n",
        "print (one_vector_2)\n",
        "#Illustrating a column vector of ones of dimension 3 using np.ones() and reshape() function\n",
        "one_vector_3=np.ones(3).reshape(3,-1)\n",
        "print (one_vector_3)"
      ],
      "metadata": {
        "colab": {
          "base_uri": "https://localhost:8080/"
        },
        "id": "JnHS8-UiQk0b",
        "outputId": "d25f3b78-a46d-4336-9f03-81420d6be7a6"
      },
      "execution_count": null,
      "outputs": [
        {
          "output_type": "stream",
          "name": "stdout",
          "text": [
            "[1 1 1]\n",
            "[1. 1. 1.]\n",
            "[[1.]\n",
            " [1.]\n",
            " [1.]]\n"
          ]
        }
      ]
    },
    {
      "cell_type": "code",
      "source": [
        "# importing required libraries (numpy as np)\n",
        "import numpy as np\n",
        "# Creating matrices of various dimension using np-.array() function\n",
        "matrix_2x2 = np.array([[1, 2],(3, 4)])\n",
        "matrix_3x3 = np.array([[1, 2, 3],\n",
        "[4, 5, 6],\n",
        "[8, 9, 10]])\n",
        "print(\"2x2 Matrix\\n\",matrix_2x2,\"\\nshape of matrix -> \",matrix_2x2.shape)\n",
        "print(\"\\n3x3 Matrix\\n\",matrix_3x3,\"\\nshape of matrix -> \",matrix_3x3.shape)\n"
      ],
      "metadata": {
        "colab": {
          "base_uri": "https://localhost:8080/"
        },
        "id": "jVKMFIMKQrQb",
        "outputId": "6406bfb5-87ed-45ac-8a5a-c8cde3ea91ba"
      },
      "execution_count": null,
      "outputs": [
        {
          "output_type": "stream",
          "name": "stdout",
          "text": [
            "2x2 Matrix\n",
            " [[1 2]\n",
            " [3 4]] \n",
            "shape of matrix ->  (2, 2)\n",
            "\n",
            "3x3 Matrix\n",
            " [[ 1  2  3]\n",
            " [ 4  5  6]\n",
            " [ 8  9 10]] \n",
            "shape of matrix ->  (3, 3)\n"
          ]
        }
      ]
    },
    {
      "cell_type": "code",
      "source": [
        "# importing required libraries (numpy as np)\n",
        "import numpy as np\n",
        "# Creating a 3x2 Matrix \"A\"\n",
        "A= np.array([[2,-2],[3,1],[1,4]])\n",
        "print(A)"
      ],
      "metadata": {
        "colab": {
          "base_uri": "https://localhost:8080/"
        },
        "id": "fC6Woyi6Qk3C",
        "outputId": "bf202d08-7b49-43b1-b08d-63a2a02e8f63"
      },
      "execution_count": null,
      "outputs": [
        {
          "output_type": "stream",
          "name": "stdout",
          "text": [
            "[[ 2 -2]\n",
            " [ 3  1]\n",
            " [ 1  4]]\n"
          ]
        }
      ]
    },
    {
      "cell_type": "code",
      "source": [
        "# selecting an element at row index 2 and column index\n",
        "\n",
        "[ ] #selecting an element at row index 2 and column index 1\n",
        "print(\"Element of matrix A at index position [2,1] is\", A[2,1])"
      ],
      "metadata": {
        "colab": {
          "base_uri": "https://localhost:8080/"
        },
        "id": "uzM7QW4lQk5G",
        "outputId": "dc9085c1-7536-46f6-c3b2-b474fd440f02"
      },
      "execution_count": null,
      "outputs": [
        {
          "output_type": "stream",
          "name": "stdout",
          "text": [
            "Element of matrix A at index position [2,1] is 4\n"
          ]
        }
      ]
    },
    {
      "cell_type": "code",
      "source": [
        "# importing required libraries (numpy as np)\n",
        "import numpy as np\n",
        "# Creating a 3x2 Matrix \"A\"\n",
        "A = np.array([[2,-2],[3,1],[1,4]])\n",
        "print(\"Matrix A:\\n\",A)\n",
        "# Finding transpose of a matrix using the function transpose()\n",
        "print(\"Matrix A Transpose: \\n\",np.transpose(A))"
      ],
      "metadata": {
        "colab": {
          "base_uri": "https://localhost:8080/"
        },
        "id": "_mcTekKySAkt",
        "outputId": "0233ec9c-d0a0-4bd9-cbf1-df9794cda621"
      },
      "execution_count": null,
      "outputs": [
        {
          "output_type": "stream",
          "name": "stdout",
          "text": [
            "Matrix A:\n",
            " [[ 2 -2]\n",
            " [ 3  1]\n",
            " [ 1  4]]\n",
            "Matrix A Transpose: \n",
            " [[ 2  3  1]\n",
            " [-2  1  4]]\n"
          ]
        }
      ]
    },
    {
      "cell_type": "code",
      "source": [],
      "metadata": {
        "id": "IWYXxo4CSAq2"
      },
      "execution_count": null,
      "outputs": []
    }
  ]
}